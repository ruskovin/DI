{
 "cells": [
  {
   "cell_type": "code",
   "execution_count": 7,
   "id": "e697038d",
   "metadata": {},
   "outputs": [],
   "source": [
    "def age():\n",
    "    user_age = input(\"How old are you?\\n>>> \")\n",
    "    #######\n",
    "    try:\n",
    "        user_age = int(user_age)\n",
    "        print(\"I AM AFTER USER_AGE\")\n",
    "    except:\n",
    "        print(\"Your age is not a real age\")\n",
    "        user_age = 0\n",
    "    finally:\n",
    "        print(\"Check finished\")\n",
    "    #######\n",
    "    print(\"Next year, you will be {} years old\".format(user_age+1))"
   ]
  },
  {
   "cell_type": "code",
   "execution_count": 9,
   "id": "57c2d08e",
   "metadata": {},
   "outputs": [
    {
     "name": "stdout",
     "output_type": "stream",
     "text": [
      "How old are you?\n",
      ">>> hhh\n",
      "Your age is not a real age\n",
      "Check finished\n",
      "Next year, you will be 1 years old\n"
     ]
    }
   ],
   "source": [
    "age()"
   ]
  },
  {
   "cell_type": "code",
   "execution_count": null,
   "id": "f8830c06",
   "metadata": {},
   "outputs": [],
   "source": []
  },
  {
   "cell_type": "code",
   "execution_count": null,
   "id": "af92825d",
   "metadata": {},
   "outputs": [],
   "source": []
  }
 ],
 "metadata": {
  "kernelspec": {
   "display_name": "Python 3 (ipykernel)",
   "language": "python",
   "name": "python3"
  },
  "language_info": {
   "codemirror_mode": {
    "name": "ipython",
    "version": 3
   },
   "file_extension": ".py",
   "mimetype": "text/x-python",
   "name": "python",
   "nbconvert_exporter": "python",
   "pygments_lexer": "ipython3",
   "version": "3.10.5"
  }
 },
 "nbformat": 4,
 "nbformat_minor": 5
}
